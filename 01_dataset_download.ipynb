{
 "cells": [
  {
   "cell_type": "code",
   "execution_count": 1,
   "id": "63af1212-33b5-42b6-8dc2-107b1e9464de",
   "metadata": {},
   "outputs": [],
   "source": [
    "import sys\n",
    "import os"
   ]
  },
  {
   "cell_type": "code",
   "execution_count": 3,
   "id": "76154109-4ad0-4343-9635-1092fd6b6f9f",
   "metadata": {},
   "outputs": [
    {
     "name": "stderr",
     "output_type": "stream",
     "text": [
      "'rm' is not recognized as an internal or external command,\n",
      "operable program or batch file.\n"
     ]
    }
   ],
   "source": [
    "! rm Yoga-82/yoga-dataset-links/desktop.ini"
   ]
  },
  {
   "cell_type": "code",
   "execution_count": 10,
   "id": "c70d9d54-4e86-44ef-9aff-9962285acc05",
   "metadata": {},
   "outputs": [
    {
     "data": {
      "text/plain": [
       "['Akarna_Dhanurasana.txt',\n",
       " \"Bharadvaja's_Twist_pose_or_Bharadvajasana_I_.txt\",\n",
       " 'Boat_Pose_or_Paripurna_Navasana_.txt',\n",
       " 'Bound_Angle_Pose_or_Baddha_Konasana_.txt',\n",
       " 'Bow_Pose_or_Dhanurasana_.txt',\n",
       " 'Bridge_Pose_or_Setu_Bandha_Sarvangasana_.txt',\n",
       " 'Camel_Pose_or_Ustrasana_.txt',\n",
       " 'Cat_Cow_Pose_or_Marjaryasana_.txt',\n",
       " 'Chair_Pose_or_Utkatasana_.txt',\n",
       " 'Child_Pose_or_Balasana_.txt',\n",
       " 'Cobra_Pose_or_Bhujangasana_.txt',\n",
       " 'Cockerel_Pose.txt',\n",
       " 'Corpse_Pose_or_Savasana_.txt',\n",
       " 'Cow_Face_Pose_or_Gomukhasana_.txt',\n",
       " 'Crane_(Crow)_Pose_or_Bakasana_.txt',\n",
       " 'desktop.ini',\n",
       " 'Dolphin_Plank_Pose_or_Makara_Adho_Mukha_Svanasana_.txt',\n",
       " 'Dolphin_Pose_or_Ardha_Pincha_Mayurasana_.txt',\n",
       " 'Downward-Facing_Dog_pose_or_Adho_Mukha_Svanasana_.txt',\n",
       " 'Eagle_Pose_or_Garudasana_.txt',\n",
       " 'Eight-Angle_Pose_or_Astavakrasana_.txt',\n",
       " 'Extended_Puppy_Pose_or_Uttana_Shishosana_.txt',\n",
       " 'Extended_Revolved_Side_Angle_Pose_or_Utthita_Parsvakonasana_.txt',\n",
       " 'Extended_Revolved_Triangle_Pose_or_Utthita_Trikonasana_.txt',\n",
       " 'Feathered_Peacock_Pose_or_Pincha_Mayurasana_.txt',\n",
       " 'Firefly_Pose_or_Tittibhasana_.txt',\n",
       " 'Fish_Pose_or_Matsyasana_.txt',\n",
       " 'Four-Limbed_Staff_Pose_or_Chaturanga_Dandasana_.txt',\n",
       " 'Frog_Pose_or_Bhekasana.txt',\n",
       " 'Garland_Pose_or_Malasana_.txt',\n",
       " 'Gate_Pose_or_Parighasana_.txt',\n",
       " 'Half_Lord_of_the_Fishes_Pose_or_Ardha_Matsyendrasana_.txt',\n",
       " 'Half_Moon_Pose_or_Ardha_Chandrasana_.txt',\n",
       " 'Handstand_pose_or_Adho_Mukha_Vrksasana_.txt',\n",
       " 'Happy_Baby_Pose_or_Ananda_Balasana_.txt',\n",
       " 'Head-to-Knee_Forward_Bend_pose_or_Janu_Sirsasana_.txt',\n",
       " 'Heron_Pose_or_Krounchasana_.txt',\n",
       " 'Intense_Side_Stretch_Pose_or_Parsvottanasana_.txt',\n",
       " 'Legs-Up-the-Wall_Pose_or_Viparita_Karani_.txt',\n",
       " 'Locust_Pose_or_Salabhasana_.txt',\n",
       " 'Lord_of_the_Dance_Pose_or_Natarajasana_.txt',\n",
       " 'Low_Lunge_pose_or_Anjaneyasana_.txt',\n",
       " 'Noose_Pose_or_Pasasana_.txt',\n",
       " 'Peacock_Pose_or_Mayurasana_.txt',\n",
       " 'Pigeon_Pose_or_Kapotasana_.txt',\n",
       " 'Plank_Pose_or_Kumbhakasana_.txt',\n",
       " 'Plow_Pose_or_Halasana_.txt',\n",
       " 'Pose_Dedicated_to_the_Sage_Koundinya_or_Eka_Pada_Koundinyanasana_I_and_II.txt',\n",
       " 'Rajakapotasana.txt',\n",
       " 'Reclining_Hand-to-Big-Toe_Pose_or_Supta_Padangusthasana_.txt',\n",
       " 'Revolved_Head-to-Knee_Pose_or_Parivrtta_Janu_Sirsasana_.txt',\n",
       " 'Scale_Pose_or_Tolasana_.txt',\n",
       " 'Scorpion_pose_or_vrischikasana.txt',\n",
       " 'Seated_Forward_Bend_pose_or_Paschimottanasana_.txt',\n",
       " 'Shoulder-Pressing_Pose_or_Bhujapidasana_.txt',\n",
       " 'Side-Reclining_Leg_Lift_pose_or_Anantasana_.txt',\n",
       " 'Side_Crane_(Crow)_Pose_or_Parsva_Bakasana_.txt',\n",
       " 'Side_Plank_Pose_or_Vasisthasana_.txt',\n",
       " 'Sitting pose 1 (normal).txt',\n",
       " 'Split pose.txt',\n",
       " 'Staff_Pose_or_Dandasana_.txt',\n",
       " 'Standing_big_toe_hold_pose_or_Utthita_Padangusthasana.txt',\n",
       " 'Standing_Forward_Bend_pose_or_Uttanasana_.txt',\n",
       " 'Standing_Split_pose_or_Urdhva_Prasarita_Eka_Padasana_.txt',\n",
       " 'Supported_Headstand_pose_or_Salamba_Sirsasana_.txt',\n",
       " 'Supported_Shoulderstand_pose_or_Salamba_Sarvangasana_.txt',\n",
       " 'Supta_Baddha_Konasana_.txt',\n",
       " 'Supta_Virasana_Vajrasana.txt',\n",
       " 'Tortoise_Pose.txt',\n",
       " 'Tree_Pose_or_Vrksasana_.txt',\n",
       " 'Upward_Bow_(Wheel)_Pose_or_Urdhva_Dhanurasana_.txt',\n",
       " 'Upward_Facing_Two-Foot_Staff_Pose_or_Dwi_Pada_Viparita_Dandasana_.txt',\n",
       " 'Upward_Plank_Pose_or_Purvottanasana_.txt',\n",
       " 'viparita_virabhadrasana_or_reverse_warrior_pose.txt',\n",
       " 'Virasana_or_Vajrasana.txt',\n",
       " 'Warrior_III_Pose_or_Virabhadrasana_III_.txt',\n",
       " 'Warrior_II_Pose_or_Virabhadrasana_II_.txt',\n",
       " 'Warrior_I_Pose_or_Virabhadrasana_I_.txt',\n",
       " 'Wide-Angle_Seated_Forward_Bend_pose_or_Upavistha_Konasana_.txt',\n",
       " 'Wide-Legged_Forward_Bend_pose_or_Prasarita_Padottanasana_.txt',\n",
       " 'Wild_Thing_pose_or_Camatkarasana_.txt',\n",
       " 'Wind_Relieving_pose_or_Pawanmuktasana.txt',\n",
       " 'Yogic_sleep_pose.txt']"
      ]
     },
     "execution_count": 10,
     "metadata": {},
     "output_type": "execute_result"
    }
   ],
   "source": [
    "file_list = os.listdir(r\"C:\\Users\\Vishwas Pandey\\Downloads\\Yoga-82\\yoga_dataset_links\")\n",
    "file_list"
   ]
  },
  {
   "cell_type": "code",
   "execution_count": 11,
   "id": "fde0eff6-b8a3-486a-9366-ac4a68417bf5",
   "metadata": {},
   "outputs": [],
   "source": [
    "os.mkdir(\"Images\")"
   ]
  },
  {
   "cell_type": "code",
   "execution_count": 12,
   "id": "027acec2-21ab-4598-9e56-2c981f33253b",
   "metadata": {},
   "outputs": [],
   "source": [
    "from PIL import Image\n",
    "from tqdm.notebook import tqdm"
   ]
  },
  {
   "cell_type": "code",
   "execution_count": null,
   "id": "c60f6315-17f4-411a-8c90-b9f2c7f13d1e",
   "metadata": {},
   "outputs": [],
   "source": [
    "###### import os\n",
    "from PIL import Image\n",
    "from tqdm import tqdm\n",
    "import requests\n",
    "\n",
    "# Base directory where all yoga pose text files are located\n",
    "base_dir = r\"C:\\Users\\Vishwas Pandey\\Downloads\\Yoga-82\\yoga_dataset_links\"\n",
    "file_list = [f for f in os.listdir(base_dir) if f.endswith('.txt')]\n",
    "\n",
    "# Directory to save downloaded images\n",
    "output_dir = \"Images\"\n",
    "os.makedirs(output_dir, exist_ok=True)\n",
    "\n",
    "# Loop through all text files\n",
    "for i in tqdm(range(len(file_list)), desc=\"Pose Files\"):\n",
    "    file_path = os.path.join(base_dir, file_list[i])\n",
    "\n",
    "    with open(file_path, 'r', encoding='utf-8') as f:\n",
    "        lines = f.readlines()\n",
    "\n",
    "    for j in tqdm(range(len(lines)), desc=f\"Downloading from {file_list[i]}\", leave=False):\n",
    "        clean_line = lines[j].strip().replace(\"\\t\", \",\")\n",
    "        splits = clean_line.split(\",\")\n",
    "\n",
    "        if len(splits) < 2:\n",
    "            print(f\"[SKIP] Malformed line: {lines[j]}\")\n",
    "            continue\n",
    "\n",
    "        img_path = splits[0].strip()\n",
    "        link = splits[1].strip()\n",
    "\n",
    "        if not link.startswith(\"http\"):\n",
    "            print(f\"[SKIP] Invalid URL: {link}\")\n",
    "            continue\n",
    "\n",
    "        try:\n",
    "            folder_name, img_name = img_path.rsplit(\"/\", 1)\n",
    "        except ValueError:\n",
    "            print(f\"[SKIP] Couldn't parse: {img_path}\")\n",
    "            continue\n",
    "\n",
    "        folder_path = os.path.join(output_dir, folder_name)\n",
    "        save_path = os.path.join(folder_path, img_name)\n",
    "\n",
    "        os.makedirs(folder_path, exist_ok=True)\n",
    "\n",
    "        # ✅ Download image using requests\n",
    "        try:\n",
    "            response = requests.get(link, timeout=10)\n",
    "            if response.status_code == 200:\n",
    "                with open(save_path, 'wb') as f:\n",
    "                    f.write(response.content)\n",
    "            else:\n",
    "                print(f\"[ERROR] Failed to download {link} - Status: {response.status_code}\")\n",
    "                continue\n",
    "        except Exception as e:\n",
    "            print(f\"[EXCEPTION] Error downloading {link}: {e}\")\n",
    "            continue\n",
    "\n",
    "        # ✅ Validate and remove if corrupt\n",
    "        if os.path.isfile(save_path):\n",
    "            try:\n",
    "                \n",
    "                img = Image.open(save_path)\n",
    "                img.verify()\n",
    "                img.close()\n",
    "            except (IOError, SyntaxError) as e:\n",
    "                print(f\"[INVALID] Removing corrupt image: {save_path}\")\n",
    "                os.remove(save_path)\n"
   ]
  },
  {
   "cell_type": "code",
   "execution_count": 1,
   "id": "34c1c5c7-006c-480b-82ab-bcc5765abc86",
   "metadata": {},
   "outputs": [],
   "source": [
    "# split terain and test data"
   ]
  },
  {
   "cell_type": "code",
   "execution_count": null,
   "id": "5e3474d3-4312-4194-9e53-cb6459571671",
   "metadata": {},
   "outputs": [],
   "source": []
  }
 ],
 "metadata": {
  "kernelspec": {
   "display_name": "Python 3 (ipykernel)",
   "language": "python",
   "name": "python3"
  },
  "language_info": {
   "codemirror_mode": {
    "name": "ipython",
    "version": 3
   },
   "file_extension": ".py",
   "mimetype": "text/x-python",
   "name": "python",
   "nbconvert_exporter": "python",
   "pygments_lexer": "ipython3",
   "version": "3.12.7"
  }
 },
 "nbformat": 4,
 "nbformat_minor": 5
}
