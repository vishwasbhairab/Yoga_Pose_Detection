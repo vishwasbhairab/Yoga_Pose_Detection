{
 "cells": [
  {
   "cell_type": "code",
   "execution_count": 1,
   "id": "6ac8246c-7bbf-4dc0-b327-ebb55882dbf2",
   "metadata": {},
   "outputs": [],
   "source": [
    "import os\n",
    "import cv2\n",
    "import mediapipe as mp\n",
    "import pandas as pd\n",
    "from tqdm.notebook import tqdm"
   ]
  },
  {
   "cell_type": "code",
   "execution_count": 2,
   "id": "d3ded675-b2cf-4466-9de4-89f7f301647e",
   "metadata": {},
   "outputs": [],
   "source": [
    "mp_pose = mp.solutions.pose\n",
    "pose = mp_pose.Pose(static_image_mode=True)"
   ]
  },
  {
   "cell_type": "code",
   "execution_count": 3,
   "id": "531f994a-b005-48aa-9fdf-8ec3f95eba16",
   "metadata": {},
   "outputs": [],
   "source": [
    "train_dir = \"Images\"\n",
    "label_map = {name: idx for idx, name in enumerate(sorted(os.listdir(train_dir)))}"
   ]
  },
  {
   "cell_type": "code",
   "execution_count": 4,
   "id": "7a51a02e-ef75-4d2f-9f46-f1ad04c949f9",
   "metadata": {},
   "outputs": [
    {
     "data": {
      "application/vnd.jupyter.widget-view+json": {
       "model_id": "ed74e6b0b3814898a56c48d1c685ac8f",
       "version_major": 2,
       "version_minor": 0
      },
      "text/plain": [
       "  0%|          | 0/82 [00:00<?, ?it/s]"
      ]
     },
     "metadata": {},
     "output_type": "display_data"
    }
   ],
   "source": [
    "data = []\n",
    "\n",
    "for label_name in tqdm(os.listdir(train_dir)):\n",
    "    folder_path = os.path.join(train_dir, label_name)\n",
    "    label_idx = label_map[label_name]\n",
    "    \n",
    "    for img_name in os.listdir(folder_path):\n",
    "        img_path = os.path.join(folder_path, img_name)\n",
    "        image = cv2.imread(img_path)\n",
    "        if image is None:\n",
    "            continue\n",
    "        \n",
    "        image_rgb = cv2.cvtColor(image, cv2.COLOR_BGR2RGB)\n",
    "        results = pose.process(image_rgb)\n",
    "        \n",
    "        if results.pose_landmarks:\n",
    "            keypoints = []\n",
    "            for landmark in results.pose_landmarks.landmark:\n",
    "                keypoints.extend([landmark.x, landmark.y, landmark.z, landmark.visibility])\n",
    "            data.append({\n",
    "                \"keypoints\": keypoints,\n",
    "                \"label\": label_idx\n",
    "            })"
   ]
  },
  {
   "cell_type": "code",
   "execution_count": 6,
   "id": "547be50e-15e9-478a-abef-439fcb54758d",
   "metadata": {},
   "outputs": [],
   "source": [
    "train_df = pd.DataFrame(data)\n",
    "train_df.to_csv(\"train_pose_data.csv\", index= False)"
   ]
  },
  {
   "cell_type": "code",
   "execution_count": 7,
   "id": "ace476a9-fde8-48f8-a55e-f90256ac02c6",
   "metadata": {},
   "outputs": [
    {
     "data": {
      "text/html": [
       "<div>\n",
       "<style scoped>\n",
       "    .dataframe tbody tr th:only-of-type {\n",
       "        vertical-align: middle;\n",
       "    }\n",
       "\n",
       "    .dataframe tbody tr th {\n",
       "        vertical-align: top;\n",
       "    }\n",
       "\n",
       "    .dataframe thead th {\n",
       "        text-align: right;\n",
       "    }\n",
       "</style>\n",
       "<table border=\"1\" class=\"dataframe\">\n",
       "  <thead>\n",
       "    <tr style=\"text-align: right;\">\n",
       "      <th></th>\n",
       "      <th>keypoints</th>\n",
       "      <th>label</th>\n",
       "    </tr>\n",
       "  </thead>\n",
       "  <tbody>\n",
       "    <tr>\n",
       "      <th>0</th>\n",
       "      <td>[0.4646364748477936, 0.6947956681251526, -0.41...</td>\n",
       "      <td>0</td>\n",
       "    </tr>\n",
       "    <tr>\n",
       "      <th>1</th>\n",
       "      <td>[0.4415546655654907, 0.3995250165462494, -0.28...</td>\n",
       "      <td>0</td>\n",
       "    </tr>\n",
       "    <tr>\n",
       "      <th>2</th>\n",
       "      <td>[0.4597375988960266, 0.45543813705444336, -0.3...</td>\n",
       "      <td>0</td>\n",
       "    </tr>\n",
       "    <tr>\n",
       "      <th>3</th>\n",
       "      <td>[0.4867863655090332, 0.2732228636741638, -0.21...</td>\n",
       "      <td>0</td>\n",
       "    </tr>\n",
       "    <tr>\n",
       "      <th>4</th>\n",
       "      <td>[0.47212284803390503, 0.2121576964855194, -0.4...</td>\n",
       "      <td>0</td>\n",
       "    </tr>\n",
       "  </tbody>\n",
       "</table>\n",
       "</div>"
      ],
      "text/plain": [
       "                                           keypoints  label\n",
       "0  [0.4646364748477936, 0.6947956681251526, -0.41...      0\n",
       "1  [0.4415546655654907, 0.3995250165462494, -0.28...      0\n",
       "2  [0.4597375988960266, 0.45543813705444336, -0.3...      0\n",
       "3  [0.4867863655090332, 0.2732228636741638, -0.21...      0\n",
       "4  [0.47212284803390503, 0.2121576964855194, -0.4...      0"
      ]
     },
     "execution_count": 7,
     "metadata": {},
     "output_type": "execute_result"
    }
   ],
   "source": [
    "train_df.head()"
   ]
  },
  {
   "cell_type": "code",
   "execution_count": 8,
   "id": "23d96361-4211-4b1b-8484-3c2adfd2fd7f",
   "metadata": {},
   "outputs": [],
   "source": [
    "df = pd.DataFrame(data)\n",
    "train_df = pd.DataFrame(df['keypoints'].tolist())  # Expand keypoints\n",
    "train_df['label'] = df['label']\n",
    "train_df.to_csv(\"train_pose_data.csv\", index=False)"
   ]
  },
  {
   "cell_type": "code",
   "execution_count": 9,
   "id": "b300a537-fc9a-44ab-845c-e2d1f80d096c",
   "metadata": {},
   "outputs": [
    {
     "data": {
      "text/html": [
       "<div>\n",
       "<style scoped>\n",
       "    .dataframe tbody tr th:only-of-type {\n",
       "        vertical-align: middle;\n",
       "    }\n",
       "\n",
       "    .dataframe tbody tr th {\n",
       "        vertical-align: top;\n",
       "    }\n",
       "\n",
       "    .dataframe thead th {\n",
       "        text-align: right;\n",
       "    }\n",
       "</style>\n",
       "<table border=\"1\" class=\"dataframe\">\n",
       "  <thead>\n",
       "    <tr style=\"text-align: right;\">\n",
       "      <th></th>\n",
       "      <th>0</th>\n",
       "      <th>1</th>\n",
       "      <th>2</th>\n",
       "      <th>3</th>\n",
       "      <th>4</th>\n",
       "      <th>5</th>\n",
       "      <th>6</th>\n",
       "      <th>7</th>\n",
       "      <th>8</th>\n",
       "      <th>9</th>\n",
       "      <th>...</th>\n",
       "      <th>123</th>\n",
       "      <th>124</th>\n",
       "      <th>125</th>\n",
       "      <th>126</th>\n",
       "      <th>127</th>\n",
       "      <th>128</th>\n",
       "      <th>129</th>\n",
       "      <th>130</th>\n",
       "      <th>131</th>\n",
       "      <th>label</th>\n",
       "    </tr>\n",
       "  </thead>\n",
       "  <tbody>\n",
       "    <tr>\n",
       "      <th>0</th>\n",
       "      <td>0.464636</td>\n",
       "      <td>0.694796</td>\n",
       "      <td>-0.416146</td>\n",
       "      <td>0.999785</td>\n",
       "      <td>0.472135</td>\n",
       "      <td>0.681143</td>\n",
       "      <td>-0.412178</td>\n",
       "      <td>0.999860</td>\n",
       "      <td>0.473898</td>\n",
       "      <td>0.681949</td>\n",
       "      <td>...</td>\n",
       "      <td>0.658281</td>\n",
       "      <td>0.694211</td>\n",
       "      <td>0.785748</td>\n",
       "      <td>-0.260036</td>\n",
       "      <td>0.782365</td>\n",
       "      <td>0.446406</td>\n",
       "      <td>0.703349</td>\n",
       "      <td>-0.227438</td>\n",
       "      <td>0.591441</td>\n",
       "      <td>0</td>\n",
       "    </tr>\n",
       "    <tr>\n",
       "      <th>1</th>\n",
       "      <td>0.441555</td>\n",
       "      <td>0.399525</td>\n",
       "      <td>-0.282835</td>\n",
       "      <td>0.999935</td>\n",
       "      <td>0.438462</td>\n",
       "      <td>0.384273</td>\n",
       "      <td>-0.240913</td>\n",
       "      <td>0.999905</td>\n",
       "      <td>0.441749</td>\n",
       "      <td>0.385742</td>\n",
       "      <td>...</td>\n",
       "      <td>0.996279</td>\n",
       "      <td>0.871209</td>\n",
       "      <td>0.743263</td>\n",
       "      <td>0.249548</td>\n",
       "      <td>0.991760</td>\n",
       "      <td>0.223790</td>\n",
       "      <td>0.158791</td>\n",
       "      <td>-0.274318</td>\n",
       "      <td>0.991202</td>\n",
       "      <td>0</td>\n",
       "    </tr>\n",
       "    <tr>\n",
       "      <th>2</th>\n",
       "      <td>0.459738</td>\n",
       "      <td>0.455438</td>\n",
       "      <td>-0.379760</td>\n",
       "      <td>0.999995</td>\n",
       "      <td>0.463634</td>\n",
       "      <td>0.437886</td>\n",
       "      <td>-0.355965</td>\n",
       "      <td>0.999992</td>\n",
       "      <td>0.466015</td>\n",
       "      <td>0.439384</td>\n",
       "      <td>...</td>\n",
       "      <td>0.949702</td>\n",
       "      <td>0.812179</td>\n",
       "      <td>0.643695</td>\n",
       "      <td>-0.300497</td>\n",
       "      <td>0.899421</td>\n",
       "      <td>0.277307</td>\n",
       "      <td>0.826159</td>\n",
       "      <td>-0.185797</td>\n",
       "      <td>0.949519</td>\n",
       "      <td>0</td>\n",
       "    </tr>\n",
       "    <tr>\n",
       "      <th>3</th>\n",
       "      <td>0.486786</td>\n",
       "      <td>0.273223</td>\n",
       "      <td>-0.217349</td>\n",
       "      <td>0.999999</td>\n",
       "      <td>0.488331</td>\n",
       "      <td>0.238872</td>\n",
       "      <td>-0.183510</td>\n",
       "      <td>0.999998</td>\n",
       "      <td>0.488669</td>\n",
       "      <td>0.238819</td>\n",
       "      <td>...</td>\n",
       "      <td>0.954926</td>\n",
       "      <td>0.818555</td>\n",
       "      <td>0.698696</td>\n",
       "      <td>-0.247723</td>\n",
       "      <td>0.941994</td>\n",
       "      <td>0.420153</td>\n",
       "      <td>0.509121</td>\n",
       "      <td>-0.343483</td>\n",
       "      <td>0.934088</td>\n",
       "      <td>0</td>\n",
       "    </tr>\n",
       "    <tr>\n",
       "      <th>4</th>\n",
       "      <td>0.472123</td>\n",
       "      <td>0.212158</td>\n",
       "      <td>-0.493343</td>\n",
       "      <td>0.999999</td>\n",
       "      <td>0.468908</td>\n",
       "      <td>0.172241</td>\n",
       "      <td>-0.463028</td>\n",
       "      <td>0.999999</td>\n",
       "      <td>0.468650</td>\n",
       "      <td>0.171591</td>\n",
       "      <td>...</td>\n",
       "      <td>0.773209</td>\n",
       "      <td>0.906846</td>\n",
       "      <td>0.580959</td>\n",
       "      <td>-0.326104</td>\n",
       "      <td>0.910724</td>\n",
       "      <td>0.314636</td>\n",
       "      <td>0.154725</td>\n",
       "      <td>-0.109031</td>\n",
       "      <td>0.802791</td>\n",
       "      <td>0</td>\n",
       "    </tr>\n",
       "  </tbody>\n",
       "</table>\n",
       "<p>5 rows × 133 columns</p>\n",
       "</div>"
      ],
      "text/plain": [
       "          0         1         2         3         4         5         6  \\\n",
       "0  0.464636  0.694796 -0.416146  0.999785  0.472135  0.681143 -0.412178   \n",
       "1  0.441555  0.399525 -0.282835  0.999935  0.438462  0.384273 -0.240913   \n",
       "2  0.459738  0.455438 -0.379760  0.999995  0.463634  0.437886 -0.355965   \n",
       "3  0.486786  0.273223 -0.217349  0.999999  0.488331  0.238872 -0.183510   \n",
       "4  0.472123  0.212158 -0.493343  0.999999  0.468908  0.172241 -0.463028   \n",
       "\n",
       "          7         8         9  ...       123       124       125       126  \\\n",
       "0  0.999860  0.473898  0.681949  ...  0.658281  0.694211  0.785748 -0.260036   \n",
       "1  0.999905  0.441749  0.385742  ...  0.996279  0.871209  0.743263  0.249548   \n",
       "2  0.999992  0.466015  0.439384  ...  0.949702  0.812179  0.643695 -0.300497   \n",
       "3  0.999998  0.488669  0.238819  ...  0.954926  0.818555  0.698696 -0.247723   \n",
       "4  0.999999  0.468650  0.171591  ...  0.773209  0.906846  0.580959 -0.326104   \n",
       "\n",
       "        127       128       129       130       131  label  \n",
       "0  0.782365  0.446406  0.703349 -0.227438  0.591441      0  \n",
       "1  0.991760  0.223790  0.158791 -0.274318  0.991202      0  \n",
       "2  0.899421  0.277307  0.826159 -0.185797  0.949519      0  \n",
       "3  0.941994  0.420153  0.509121 -0.343483  0.934088      0  \n",
       "4  0.910724  0.314636  0.154725 -0.109031  0.802791      0  \n",
       "\n",
       "[5 rows x 133 columns]"
      ]
     },
     "execution_count": 9,
     "metadata": {},
     "output_type": "execute_result"
    }
   ],
   "source": [
    "train_df.head()"
   ]
  },
  {
   "cell_type": "code",
   "execution_count": 10,
   "id": "997a4462-9272-4348-a444-4450bb7fbb30",
   "metadata": {},
   "outputs": [],
   "source": [
    "test_dir = \"Test\"\n",
    "label_map = {name: idx for idx, name in enumerate(sorted(os.listdir(test_dir)))}"
   ]
  },
  {
   "cell_type": "code",
   "execution_count": 14,
   "id": "053aabb3-0b8b-4e04-9fe6-f0a8a1ceec18",
   "metadata": {},
   "outputs": [],
   "source": [
    "test_data = []"
   ]
  },
  {
   "cell_type": "code",
   "execution_count": 15,
   "id": "f12078c3-e4e1-4b29-8e5f-4bac7793f4bf",
   "metadata": {},
   "outputs": [
    {
     "data": {
      "application/vnd.jupyter.widget-view+json": {
       "model_id": "493eae75c6df4fb087787e92a8eb085f",
       "version_major": 2,
       "version_minor": 0
      },
      "text/plain": [
       "  0%|          | 0/82 [00:00<?, ?it/s]"
      ]
     },
     "metadata": {},
     "output_type": "display_data"
    }
   ],
   "source": [
    "for label_name in tqdm(os.listdir(test_dir)):\n",
    "    folder_path = os.path.join(test_dir, label_name)\n",
    "    label_idx = label_map[label_name]\n",
    "    \n",
    "    for img_name in os.listdir(folder_path):\n",
    "        img_path = os.path.join(folder_path, img_name)\n",
    "        image = cv2.imread(img_path)\n",
    "        if image is None:\n",
    "            continue\n",
    "\n",
    "        image_rgb = cv2.cvtColor(image, cv2.COLOR_BGR2RGB)\n",
    "        results = pose.process(image_rgb)\n",
    "\n",
    "        if results.pose_landmarks:\n",
    "            keypoints = []\n",
    "            for landmark in results.pose_landmarks.landmark:\n",
    "                keypoints.extend([landmark.x, landmark.y, landmark.z, landmark.visibility])\n",
    "            test_data.append({\n",
    "                \"keypoints\": keypoints,\n",
    "                \"label\": label_idx\n",
    "            })\n"
   ]
  },
  {
   "cell_type": "code",
   "execution_count": 18,
   "id": "f01c4f72-f46e-45da-a632-ad4e3cadc84f",
   "metadata": {},
   "outputs": [],
   "source": [
    "df = pd.DataFrame(test_data)\n",
    "test_df = pd.DataFrame(df['keypoints'].tolist())  # Spread keypoints\n",
    "test_df['label'] = df['label']\n",
    "test_df.to_csv(\"test_pose_data.csv\", index=False)"
   ]
  },
  {
   "cell_type": "code",
   "execution_count": null,
   "id": "8d593961-5c10-45e6-b24f-d22401b80fa4",
   "metadata": {},
   "outputs": [],
   "source": []
  }
 ],
 "metadata": {
  "kernelspec": {
   "display_name": "Python 3 (ipykernel)",
   "language": "python",
   "name": "python3"
  },
  "language_info": {
   "codemirror_mode": {
    "name": "ipython",
    "version": 3
   },
   "file_extension": ".py",
   "mimetype": "text/x-python",
   "name": "python",
   "nbconvert_exporter": "python",
   "pygments_lexer": "ipython3",
   "version": "3.12.7"
  }
 },
 "nbformat": 4,
 "nbformat_minor": 5
}
